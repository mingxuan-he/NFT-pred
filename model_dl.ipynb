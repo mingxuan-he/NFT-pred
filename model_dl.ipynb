{
 "cells": [
  {
   "cell_type": "code",
   "execution_count": 1,
   "metadata": {},
   "outputs": [],
   "source": [
    "import pandas as pd\n",
    "from sklearn.model_selection import train_test_split\n",
    "from sklearn.preprocessing import StandardScaler"
   ]
  },
  {
   "cell_type": "code",
   "execution_count": 2,
   "metadata": {},
   "outputs": [],
   "source": [
    "# define column sets\n",
    "feature_columns = {\n",
    "    \"base_cols\" : ['volume_eth', 'price_p5_eth', 'price_max_eth', 'price_min_eth',\n",
    "                'rarity_rank'],\n",
    "    \"base_traits\" : ['Background_count', 'Mouth_count', 'Eyes_count', 'Fur_count'],\n",
    "    \"extra_traits\" : ['Hat_count', 'Clothes_count', 'Earring_count'],\n",
    "    \"last_trade\" : ['last_trade_timediff', 'last_trade_price'],\n",
    "}\n",
    "\n",
    "outcome_columns = {\n",
    "    'price_eth' : 'trade_price',\n",
    "    'price_usd' : 'amount_usd',\n",
    "    'lnprice_eth' : 'ln_trade_price', #TODO\n",
    "    'lnprice_eth' : 'ln_amount_usd' #TODO\n",
    "}"
   ]
  },
  {
   "cell_type": "code",
   "execution_count": 3,
   "metadata": {},
   "outputs": [],
   "source": [
    "X_cols_1 = feature_columns['base_cols'] + feature_columns['base_traits'] + feature_columns['last_trade']\n",
    "y_col_1 = \"trade_price\""
   ]
  },
  {
   "cell_type": "code",
   "execution_count": 4,
   "metadata": {},
   "outputs": [],
   "source": [
    "data = pd.read_csv(\"data/bayc_cleaned.csv\")\n",
    "\n",
    "data = data.dropna(subset=X_cols_1+[y_col_1])\n",
    "X = data[X_cols_1]\n",
    "y = data[y_col_1]\n",
    "\n",
    "X_train, X_test, y_train, y_test = train_test_split(X, y, test_size=0.2, random_state=42)\n",
    "\n",
    "# Standardizing the data\n",
    "scaler = StandardScaler()\n",
    "X_train = scaler.fit_transform(X_train)\n",
    "X_test = scaler.transform(X_test)"
   ]
  },
  {
   "cell_type": "code",
   "execution_count": 5,
   "metadata": {},
   "outputs": [],
   "source": [
    "import tensorflow as tf\n",
    "from tensorflow.keras.layers import Dense\n",
    "from tensorflow.keras.models import Sequential\n",
    "\n",
    "model = Sequential()\n",
    "model.add(Dense(64, activation='relu', input_shape=(X_train.shape[1],)))\n",
    "model.add(Dense(32, activation='relu'))\n",
    "model.add(Dense(1))  # Output layer for prediction"
   ]
  },
  {
   "cell_type": "code",
   "execution_count": 6,
   "metadata": {},
   "outputs": [],
   "source": [
    "model.compile(optimizer='adam', loss='mean_squared_error')"
   ]
  },
  {
   "cell_type": "code",
   "execution_count": 7,
   "metadata": {},
   "outputs": [
    {
     "name": "stderr",
     "output_type": "stream",
     "text": [
      "Failed to detect the name of this notebook, you can set it manually with the WANDB_NOTEBOOK_NAME environment variable to enable code saving.\n",
      "wandb: Currently logged in as: mingxuan-he. Use `wandb login --relogin` to force relogin\n"
     ]
    },
    {
     "data": {
      "text/plain": [
       "True"
      ]
     },
     "execution_count": 7,
     "metadata": {},
     "output_type": "execute_result"
    }
   ],
   "source": [
    "# model config/ training\n",
    "import wandb\n",
    "from wandb.keras import WandbCallback\n",
    "wandb.login()"
   ]
  },
  {
   "cell_type": "code",
   "execution_count": 8,
   "metadata": {},
   "outputs": [
    {
     "data": {
      "text/html": [
       "Tracking run with wandb version 0.16.0"
      ],
      "text/plain": [
       "<IPython.core.display.HTML object>"
      ]
     },
     "metadata": {},
     "output_type": "display_data"
    },
    {
     "data": {
      "text/html": [
       "Run data is saved locally in <code>c:\\Users\\sheld\\OneDrive\\BUSN 41913 Bayes, AI, and Deep Learning\\NFT_pred\\wandb\\run-20231129_230947-f8t6zdiq</code>"
      ],
      "text/plain": [
       "<IPython.core.display.HTML object>"
      ]
     },
     "metadata": {},
     "output_type": "display_data"
    },
    {
     "data": {
      "text/html": [
       "Syncing run <strong><a href='https://wandb.ai/mingxuan-he/bayc/runs/f8t6zdiq' target=\"_blank\">kind-wildflower-5</a></strong> to <a href='https://wandb.ai/mingxuan-he/bayc' target=\"_blank\">Weights & Biases</a> (<a href='https://wandb.me/run' target=\"_blank\">docs</a>)<br/>"
      ],
      "text/plain": [
       "<IPython.core.display.HTML object>"
      ]
     },
     "metadata": {},
     "output_type": "display_data"
    },
    {
     "data": {
      "text/html": [
       " View project at <a href='https://wandb.ai/mingxuan-he/bayc' target=\"_blank\">https://wandb.ai/mingxuan-he/bayc</a>"
      ],
      "text/plain": [
       "<IPython.core.display.HTML object>"
      ]
     },
     "metadata": {},
     "output_type": "display_data"
    },
    {
     "data": {
      "text/html": [
       " View run at <a href='https://wandb.ai/mingxuan-he/bayc/runs/f8t6zdiq' target=\"_blank\">https://wandb.ai/mingxuan-he/bayc/runs/f8t6zdiq</a>"
      ],
      "text/plain": [
       "<IPython.core.display.HTML object>"
      ]
     },
     "metadata": {},
     "output_type": "display_data"
    }
   ],
   "source": [
    "wandb.init(project=\"bayc\", entity=\"mingxuan-he\")\n",
    "config = wandb.config\n",
    "config.learning_rate = 0.01\n",
    "config.epochs = 10\n",
    "config.batch_size = 32"
   ]
  },
  {
   "cell_type": "code",
   "execution_count": 9,
   "metadata": {},
   "outputs": [
    {
     "name": "stderr",
     "output_type": "stream",
     "text": [
      "wandb: WARNING The save_model argument by default saves the model in the HDF5 format that cannot save custom objects like subclassed models and custom layers. This behavior will be deprecated in a future release in favor of the SavedModel format. Meanwhile, the HDF5 model is saved as W&B files and the SavedModel as W&B Artifacts.\n"
     ]
    },
    {
     "name": "stdout",
     "output_type": "stream",
     "text": [
      "Epoch 1/10\n",
      "856/860 [============================>.] - ETA: 0s - loss: 856.0603WARNING:tensorflow:From c:\\ProgramData\\Anaconda3\\lib\\site-packages\\tensorflow\\python\\ops\\resource_variable_ops.py:1813: calling BaseResourceVariable.__init__ (from tensorflow.python.ops.resource_variable_ops) with constraint is deprecated and will be removed in a future version.\n",
      "Instructions for updating:\n",
      "If using Keras pass *_constraint arguments to layers.\n",
      "INFO:tensorflow:Assets written to: c:\\Users\\sheld\\OneDrive\\BUSN 41913 Bayes, AI, and Deep Learning\\NFT_pred\\wandb\\run-20231129_230947-f8t6zdiq\\files\\model-best\\assets\n"
     ]
    },
    {
     "name": "stderr",
     "output_type": "stream",
     "text": [
      "wandb: Adding directory to artifact (c:\\Users\\sheld\\OneDrive\\BUSN 41913 Bayes, AI, and Deep Learning\\NFT_pred\\wandb\\run-20231129_230947-f8t6zdiq\\files\\model-best)... Done. 0.0s\n"
     ]
    },
    {
     "name": "stdout",
     "output_type": "stream",
     "text": [
      "860/860 [==============================] - 1s 1ms/step - loss: 853.3048 - val_loss: 429.0990\n",
      "Epoch 2/10\n",
      "737/860 [========================>.....] - ETA: 0s - loss: 402.4237INFO:tensorflow:Assets written to: c:\\Users\\sheld\\OneDrive\\BUSN 41913 Bayes, AI, and Deep Learning\\NFT_pred\\wandb\\run-20231129_230947-f8t6zdiq\\files\\model-best\\assets\n"
     ]
    },
    {
     "name": "stderr",
     "output_type": "stream",
     "text": [
      "wandb: Adding directory to artifact (c:\\Users\\sheld\\OneDrive\\BUSN 41913 Bayes, AI, and Deep Learning\\NFT_pred\\wandb\\run-20231129_230947-f8t6zdiq\\files\\model-best)... Done. 0.0s\n"
     ]
    },
    {
     "name": "stdout",
     "output_type": "stream",
     "text": [
      "860/860 [==============================] - 1s 905us/step - loss: 417.9860 - val_loss: 391.8601\n",
      "Epoch 3/10\n",
      "759/860 [=========================>....] - ETA: 0s - loss: 395.4404INFO:tensorflow:Assets written to: c:\\Users\\sheld\\OneDrive\\BUSN 41913 Bayes, AI, and Deep Learning\\NFT_pred\\wandb\\run-20231129_230947-f8t6zdiq\\files\\model-best\\assets\n"
     ]
    },
    {
     "name": "stderr",
     "output_type": "stream",
     "text": [
      "wandb: Adding directory to artifact (c:\\Users\\sheld\\OneDrive\\BUSN 41913 Bayes, AI, and Deep Learning\\NFT_pred\\wandb\\run-20231129_230947-f8t6zdiq\\files\\model-best)... Done. 0.0s\n"
     ]
    },
    {
     "name": "stdout",
     "output_type": "stream",
     "text": [
      "860/860 [==============================] - 1s 901us/step - loss: 395.1592 - val_loss: 371.1491\n",
      "Epoch 4/10\n",
      "850/860 [============================>.] - ETA: 0s - loss: 376.9225INFO:tensorflow:Assets written to: c:\\Users\\sheld\\OneDrive\\BUSN 41913 Bayes, AI, and Deep Learning\\NFT_pred\\wandb\\run-20231129_230947-f8t6zdiq\\files\\model-best\\assets\n"
     ]
    },
    {
     "name": "stderr",
     "output_type": "stream",
     "text": [
      "wandb: Adding directory to artifact (c:\\Users\\sheld\\OneDrive\\BUSN 41913 Bayes, AI, and Deep Learning\\NFT_pred\\wandb\\run-20231129_230947-f8t6zdiq\\files\\model-best)... Done. 0.0s\n"
     ]
    },
    {
     "name": "stdout",
     "output_type": "stream",
     "text": [
      "860/860 [==============================] - 1s 944us/step - loss: 379.0103 - val_loss: 363.3239\n",
      "Epoch 5/10\n",
      "743/860 [========================>.....] - ETA: 0s - loss: 381.3979INFO:tensorflow:Assets written to: c:\\Users\\sheld\\OneDrive\\BUSN 41913 Bayes, AI, and Deep Learning\\NFT_pred\\wandb\\run-20231129_230947-f8t6zdiq\\files\\model-best\\assets\n"
     ]
    },
    {
     "name": "stderr",
     "output_type": "stream",
     "text": [
      "wandb: Adding directory to artifact (c:\\Users\\sheld\\OneDrive\\BUSN 41913 Bayes, AI, and Deep Learning\\NFT_pred\\wandb\\run-20231129_230947-f8t6zdiq\\files\\model-best)... Done. 0.0s\n"
     ]
    },
    {
     "name": "stdout",
     "output_type": "stream",
     "text": [
      "860/860 [==============================] - 1s 937us/step - loss: 373.7658 - val_loss: 351.5523\n",
      "Epoch 6/10\n",
      "813/860 [===========================>..] - ETA: 0s - loss: 360.7188INFO:tensorflow:Assets written to: c:\\Users\\sheld\\OneDrive\\BUSN 41913 Bayes, AI, and Deep Learning\\NFT_pred\\wandb\\run-20231129_230947-f8t6zdiq\\files\\model-best\\assets\n"
     ]
    },
    {
     "name": "stderr",
     "output_type": "stream",
     "text": [
      "wandb: Adding directory to artifact (c:\\Users\\sheld\\OneDrive\\BUSN 41913 Bayes, AI, and Deep Learning\\NFT_pred\\wandb\\run-20231129_230947-f8t6zdiq\\files\\model-best)... Done. 0.0s\n"
     ]
    },
    {
     "name": "stdout",
     "output_type": "stream",
     "text": [
      "860/860 [==============================] - 1s 1ms/step - loss: 359.3988 - val_loss: 342.4567\n",
      "Epoch 7/10\n",
      "844/860 [============================>.] - ETA: 0s - loss: 337.4383INFO:tensorflow:Assets written to: c:\\Users\\sheld\\OneDrive\\BUSN 41913 Bayes, AI, and Deep Learning\\NFT_pred\\wandb\\run-20231129_230947-f8t6zdiq\\files\\model-best\\assets\n"
     ]
    },
    {
     "name": "stderr",
     "output_type": "stream",
     "text": [
      "wandb: Adding directory to artifact (c:\\Users\\sheld\\OneDrive\\BUSN 41913 Bayes, AI, and Deep Learning\\NFT_pred\\wandb\\run-20231129_230947-f8t6zdiq\\files\\model-best)... Done. 0.0s\n"
     ]
    },
    {
     "name": "stdout",
     "output_type": "stream",
     "text": [
      "860/860 [==============================] - 1s 927us/step - loss: 351.4937 - val_loss: 325.0730\n",
      "Epoch 8/10\n",
      "860/860 [==============================] - 0s 499us/step - loss: 345.7977 - val_loss: 331.4471\n",
      "Epoch 9/10\n",
      "860/860 [==============================] - 0s 521us/step - loss: 339.9682 - val_loss: 360.3684\n",
      "Epoch 10/10\n",
      "860/860 [==============================] - 0s 576us/step - loss: 335.0451 - val_loss: 332.8818\n"
     ]
    },
    {
     "data": {
      "application/vnd.jupyter.widget-view+json": {
       "model_id": "bdb40643d9ab461c86dc5467ab123fdc",
       "version_major": 2,
       "version_minor": 0
      },
      "text/plain": [
       "VBox(children=(Label(value='0.909 MB of 0.909 MB uploaded\\r'), FloatProgress(value=1.0, max=1.0)))"
      ]
     },
     "metadata": {},
     "output_type": "display_data"
    },
    {
     "data": {
      "text/html": [
       "<style>\n",
       "    table.wandb td:nth-child(1) { padding: 0 10px; text-align: left ; width: auto;} td:nth-child(2) {text-align: left ; width: 100%}\n",
       "    .wandb-row { display: flex; flex-direction: row; flex-wrap: wrap; justify-content: flex-start; width: 100% }\n",
       "    .wandb-col { display: flex; flex-direction: column; flex-basis: 100%; flex: 1; padding: 10px; }\n",
       "    </style>\n",
       "<div class=\"wandb-row\"><div class=\"wandb-col\"><h3>Run history:</h3><br/><table class=\"wandb\"><tr><td>epoch</td><td>▁▂▃▃▄▅▆▆▇█</td></tr><tr><td>loss</td><td>█▂▂▂▂▁▁▁▁▁</td></tr><tr><td>val_loss</td><td>█▅▄▄▃▂▁▁▃▂</td></tr></table><br/></div><div class=\"wandb-col\"><h3>Run summary:</h3><br/><table class=\"wandb\"><tr><td>best_epoch</td><td>6</td></tr><tr><td>best_val_loss</td><td>325.073</td></tr><tr><td>epoch</td><td>9</td></tr><tr><td>loss</td><td>335.04507</td></tr><tr><td>val_loss</td><td>332.88177</td></tr></table><br/></div></div>"
      ],
      "text/plain": [
       "<IPython.core.display.HTML object>"
      ]
     },
     "metadata": {},
     "output_type": "display_data"
    },
    {
     "data": {
      "text/html": [
       " View run <strong style=\"color:#cdcd00\">kind-wildflower-5</strong> at: <a href='https://wandb.ai/mingxuan-he/bayc/runs/f8t6zdiq' target=\"_blank\">https://wandb.ai/mingxuan-he/bayc/runs/f8t6zdiq</a><br/>Synced 6 W&B file(s), 1 media file(s), 21 artifact file(s) and 1 other file(s)"
      ],
      "text/plain": [
       "<IPython.core.display.HTML object>"
      ]
     },
     "metadata": {},
     "output_type": "display_data"
    },
    {
     "data": {
      "text/html": [
       "Find logs at: <code>.\\wandb\\run-20231129_230947-f8t6zdiq\\logs</code>"
      ],
      "text/plain": [
       "<IPython.core.display.HTML object>"
      ]
     },
     "metadata": {},
     "output_type": "display_data"
    }
   ],
   "source": [
    "model.fit(\n",
    "    X_train, \n",
    "    y_train, \n",
    "    epochs=config.epochs,\n",
    "    validation_data=(X_test, y_test), \n",
    "    batch_size=config.batch_size, \n",
    "    callbacks=[WandbCallback()])\n",
    "wandb.finish()"
   ]
  },
  {
   "cell_type": "code",
   "execution_count": 10,
   "metadata": {},
   "outputs": [],
   "source": [
    "predictions = model.predict(X_test)"
   ]
  },
  {
   "cell_type": "code",
   "execution_count": 11,
   "metadata": {},
   "outputs": [
    {
     "data": {
      "image/png": "[encoded data removed]",
      "text/plain": [
       "<Figure size 640x480 with 1 Axes>"
      ]
     },
     "metadata": {},
     "output_type": "display_data"
    }
   ],
   "source": [
    "import matplotlib.pyplot as plt\n",
    "plt.scatter(y_test, predictions)\n",
    "plt.show()"
   ]
  },
  {
   "cell_type": "code",
   "execution_count": 12,
   "metadata": {},
   "outputs": [
    {
     "name": "stdout",
     "output_type": "stream",
     "text": [
      "Model: \"sequential\"\n",
      "_________________________________________________________________\n",
      "Layer (type)                 Output Shape              Param #   \n",
      "=================================================================\n",
      "dense (Dense)                (None, 64)                768       \n",
      "_________________________________________________________________\n",
      "dense_1 (Dense)              (None, 32)                2080      \n",
      "_________________________________________________________________\n",
      "dense_2 (Dense)              (None, 1)                 33        \n",
      "=================================================================\n",
      "Total params: 2,881\n",
      "Trainable params: 2,881\n",
      "Non-trainable params: 0\n",
      "_________________________________________________________________\n"
     ]
    }
   ],
   "source": [
    "model.summary()"
   ]
  },
  {
   "cell_type": "code",
   "execution_count": 13,
   "metadata": {},
   "outputs": [
    {
     "data": {
      "image/png": "[encoded data removed]",
      "text/plain": [
       "<IPython.core.display.Image object>"
      ]
     },
     "execution_count": 13,
     "metadata": {},
     "output_type": "execute_result"
    }
   ],
   "source": [
    "from tensorflow.keras.utils import plot_model\n",
    "plot_model(model, show_shapes=True, show_layer_names=True)"
   ]
  },
  {
   "cell_type": "code",
   "execution_count": 14,
   "metadata": {},
   "outputs": [],
   "source": [
    "from keras_visualizer import visualizer\n",
    "visualizer(model, file_name=\"figures/nn\", file_format='png', view=True)"
   ]
  }
 ],
 "metadata": {
  "kernelspec": {
   "display_name": "Python 3",
   "language": "python",
   "name": "python3"
  },
  "language_info": {
   "codemirror_mode": {
    "name": "ipython",
    "version": 3
   },
   "file_extension": ".py",
   "mimetype": "text/x-python",
   "name": "python",
   "nbconvert_exporter": "python",
   "pygments_lexer": "ipython3",
   "version": "3.8.5"
  }
 },
 "nbformat": 4,
 "nbformat_minor": 2
}
