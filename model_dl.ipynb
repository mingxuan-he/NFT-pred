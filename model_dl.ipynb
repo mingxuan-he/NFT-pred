{
 "cells": [
  {
   "cell_type": "markdown",
   "metadata": {},
   "source": [
    "# Model description (deep learning)\n",
    "packages used: tensorflow, keras, wandb  \n",
    "Hardware: NVIDIA RTX 3060 Ti (local)  "
   ]
  },
  {
   "cell_type": "code",
   "execution_count": 1,
   "metadata": {},
   "outputs": [],
   "source": [
    "import numpy as np\n",
    "import pandas as pd\n",
    "from sklearn.model_selection import train_test_split\n",
    "from sklearn.preprocessing import StandardScaler"
   ]
  },
  {
   "cell_type": "markdown",
   "metadata": {},
   "source": [
    "# Load data"
   ]
  },
  {
   "cell_type": "code",
   "execution_count": 2,
   "metadata": {},
   "outputs": [],
   "source": [
    "# define column sets\n",
    "feature_columns = {\n",
    "    \"market\" : ['volume_eth', 'price_p5_eth_lag1', 'price_max_eth_lag1', 'price_min_eth_lag1'],\n",
    "    \"traits_rarity\" : ['rarity_rank', 'Background_count', 'Mouth_count', 'Eyes_count', 'Fur_count', 'Hat_count', 'Clothes_count', 'Earring_count'],\n",
    "    \"last_trade\" : ['last_trade_timediff', 'last_trade_price'],\n",
    "}\n",
    "\n",
    "outcome_columns = {\n",
    "    'trade_price' : 'trade_price',\n",
    "    'amount_usd' : 'amount_usd',\n",
    "    'trade_price_log' : 'trade_price_log'\n",
    "}"
   ]
  },
  {
   "cell_type": "code",
   "execution_count": 3,
   "metadata": {},
   "outputs": [],
   "source": [
    "X_cols = feature_columns['market'] + feature_columns['traits_rarity'] + feature_columns['last_trade']\n",
    "y_col = \"trade_price\""
   ]
  },
  {
   "cell_type": "code",
   "execution_count": 4,
   "metadata": {},
   "outputs": [],
   "source": [
    "data = pd.read_csv(\"data/bayc_cleaned.csv\")\n",
    "\n",
    "data = data.dropna(subset=X_cols+[y_col])\n",
    "X = data[X_cols]\n",
    "y = data[y_col]\n",
    "\n",
    "X_train, X_test, y_train, y_test = train_test_split(X, y, test_size=0.2, random_state=42)\n",
    "\n",
    "# Standardizing the data\n",
    "scaler = StandardScaler()\n",
    "X_train = scaler.fit_transform(X_train)\n",
    "X_test = scaler.transform(X_test)\n",
    "\n",
    "# resize for CNN\n",
    "X_train = np.expand_dims(X_train, axis=2)"
   ]
  },
  {
   "cell_type": "markdown",
   "metadata": {},
   "source": [
    "# Build keras model"
   ]
  },
  {
   "cell_type": "code",
   "execution_count": 5,
   "metadata": {},
   "outputs": [],
   "source": [
    "import tensorflow as tf\n",
    "from tensorflow.keras.models import Sequential\n",
    "from tensorflow.keras.layers import Input, Dense, Conv1D, MaxPooling1D, Flatten, Dropout\n",
    "import keras_tuner\n",
    "\n",
    "\n",
    "def build_model(hp):\n",
    "    \"\"\"\n",
    "    Build a CNN model for predicting trade price of NFTs\n",
    "    hp: HyperParameters object from keras_tuner\n",
    "    Tunable hyperparameters:\n",
    "        filters: Int\n",
    "        kernel_size: Int\n",
    "        units: Int Choice [64, 128, 256, 512]\n",
    "        dropout: Boolean\n",
    "        learning_rate: Float Choice [1e-2, 1e-3, 1e-4]\n",
    "    \"\"\"\n",
    "\n",
    "    model = Sequential()\n",
    "    \n",
    "    # Input layer\n",
    "    model.add(Input(shape=(X_train.shape[1],1)))\n",
    "    \n",
    "    # Conv1D layer\n",
    "    model.add(Conv1D(\n",
    "        filters=hp.Int(\"filters\", min_value=32, max_value=256, step=32),\n",
    "        kernel_size=hp.Int(\"kernel_size\", min_value=2, max_value=5, step=1), \n",
    "        activation='relu'\n",
    "        ))\n",
    "    \n",
    "    # MaxPooling layer\n",
    "    model.add(MaxPooling1D(pool_size=2))\n",
    "    \n",
    "    # Flatten layer\n",
    "    model.add(Flatten())\n",
    "    \n",
    "    # Dense layers    \n",
    "    model.add(Dense(\n",
    "        units=hp.Choice('units', values=[64, 128, 256, 512]),\n",
    "        activation='relu'\n",
    "        ))\n",
    "    \n",
    "    model.add(Dense(\n",
    "        units=32, \n",
    "        activation='relu'\n",
    "        ))\n",
    "    \n",
    "    # Dropout layer\n",
    "    if hp.Boolean(\"dropout\"):\n",
    "        model.add(Dropout(0.25))\n",
    "    \n",
    "    # Output layer\n",
    "    model.add(Dense(1, activation='linear'))\n",
    "    \n",
    "    # Compile model\n",
    "    optimizer = tf.keras.optimizers.Adam(\n",
    "        hp.Choice('learning_rate', values=[1e-2, 1e-3, 1e-4])\n",
    "        )\n",
    "    \n",
    "    model.compile(\n",
    "        optimizer=optimizer,\n",
    "        loss='mean_squared_error'\n",
    "        )\n",
    "    \n",
    "    return model"
   ]
  },
  {
   "cell_type": "markdown",
   "metadata": {},
   "source": [
    "# Integrate with weights & biases"
   ]
  },
  {
   "cell_type": "code",
   "execution_count": 6,
   "metadata": {},
   "outputs": [],
   "source": [
    "import wandb\n",
    "from wandb.keras import WandbCallback"
   ]
  },
  {
   "cell_type": "code",
   "execution_count": 7,
   "metadata": {},
   "outputs": [
    {
     "name": "stderr",
     "output_type": "stream",
     "text": [
      "Failed to detect the name of this notebook, you can set it manually with the WANDB_NOTEBOOK_NAME environment variable to enable code saving.\n",
      "wandb: Currently logged in as: mingxuan-he. Use `wandb login --relogin` to force relogin\n"
     ]
    },
    {
     "data": {
      "text/plain": [
       "True"
      ]
     },
     "execution_count": 7,
     "metadata": {},
     "output_type": "execute_result"
    }
   ],
   "source": [
    "# login weights & biases (requires .env or CLI login)\n",
    "wandb.login()"
   ]
  },
  {
   "cell_type": "code",
   "execution_count": 8,
   "metadata": {},
   "outputs": [],
   "source": [
    "\n",
    "# # not used\n",
    "\n",
    "# class MyTuner(keras_tuner.RandomSearch):\n",
    "#     \"\"\"\n",
    "#     Custom tuner class for displaying keras_tuner progress in wandb\n",
    "#     \"\"\"\n",
    "    \n",
    "#     def run_trial(self, trial, X, y, batch_size, epochs, objective):\n",
    "#         \"\"\"\n",
    "#         modify run_trial method to display progress in wandb\n",
    "#         \"\"\"\n",
    "        \n",
    "#         hp = trial.hyperparameters\n",
    "        \n",
    "#         model = self.hypermodel.build(hp)\n",
    "        \n",
    "#         # initialize wandb run\n",
    "#         run = wandb.init(\n",
    "#             project=\"bayc\",\n",
    "#             entity=\"mingxuan-he\",\n",
    "#             config=hp.values\n",
    "#         )\n",
    "        \n",
    "#         history = model.fit(\n",
    "#             X, y,\n",
    "#             batch_size=batch_size,\n",
    "#             epochs=epochs,\n",
    "#             validation_split=0.2,\n",
    "#             callbacks=[WandbCallback()]\n",
    "#         )\n",
    "        \n",
    "#         val_loss = history.history['val_loss'][-1]\n",
    "        \n",
    "#         self.oracle.update_trial(trial.trial_id, {objective:val_loss})\n",
    "        \n",
    "#         run.finish()\n",
    "    \n",
    "#     # def save_model(self, trial_id, model, step=0):\n",
    "#     #     \"\"\"Save a model for a given trial.\"\"\"\n",
    "#     #     fname = f'model_{trial_id}.h5'\n",
    "#     #     model_dir = os.path.join(self.get_trial_dir(trial_id), 'model')\n",
    "#     #     if not os.path.exists(model_dir):\n",
    "#     #         os.makedirs(model_dir)\n",
    "#     #     model_path = os.path.join(model_dir, fname)\n",
    "#     #     model.save(model_path)\n",
    "        \n",
    "        "
   ]
  },
  {
   "cell_type": "markdown",
   "metadata": {},
   "source": [
    "## Create custom HyperModel class for integration with w&b"
   ]
  },
  {
   "cell_type": "code",
   "execution_count": 9,
   "metadata": {},
   "outputs": [],
   "source": [
    "class MyHyperModel(keras_tuner.HyperModel):\n",
    "    \n",
    "    \"\"\" \n",
    "    Custom hypermodel class for keras_tuner, with integrated wandb logging\n",
    "    \"\"\"\n",
    "    \n",
    "    def build(self, hp):\n",
    "        \n",
    "        run = wandb.init(\n",
    "            project=\"NFT_Pred\",\n",
    "            entity=\"mingxuan-he\",\n",
    "            config=hp.values\n",
    "        )\n",
    "        \n",
    "        model = build_model(hp)\n",
    "        \n",
    "        return model\n",
    "\n",
    "    def fit(self, hp, model, *args, **kwargs):\n",
    "        \n",
    "        if 'callbacks' in kwargs:\n",
    "            kwargs['callbacks'].append(WandbCallback())\n",
    "        else:\n",
    "            kwargs['callbacks'] = [WandbCallback()]\n",
    "        \n",
    "        history = model.fit(\n",
    "            *args,\n",
    "            **kwargs,\n",
    "        )\n",
    "        \n",
    "        wandb.finish()\n",
    "        \n",
    "        return history"
   ]
  },
  {
   "cell_type": "markdown",
   "metadata": {},
   "source": [
    "# Model training with hyperparam tuning"
   ]
  },
  {
   "cell_type": "code",
   "execution_count": 10,
   "metadata": {},
   "outputs": [
    {
     "data": {
      "text/html": [
       "wandb version 0.16.1 is available!  To upgrade, please run:\n",
       " $ pip install wandb --upgrade"
      ],
      "text/plain": [
       "<IPython.core.display.HTML object>"
      ]
     },
     "metadata": {},
     "output_type": "display_data"
    },
    {
     "data": {
      "text/html": [
       "Tracking run with wandb version 0.16.0"
      ],
      "text/plain": [
       "<IPython.core.display.HTML object>"
      ]
     },
     "metadata": {},
     "output_type": "display_data"
    },
    {
     "data": {
      "text/html": [
       "Run data is saved locally in <code>c:\\Users\\sheld\\OneDrive\\BUSN 41913 Bayes, AI, and Deep Learning\\NFT_pred\\wandb\\run-20231206_195629-qp6kmxt6</code>"
      ],
      "text/plain": [
       "<IPython.core.display.HTML object>"
      ]
     },
     "metadata": {},
     "output_type": "display_data"
    },
    {
     "data": {
      "text/html": [
       "Syncing run <strong><a href='https://wandb.ai/mingxuan-he/NFT_pred/runs/qp6kmxt6' target=\"_blank\">dry-butterfly-19</a></strong> to <a href='https://wandb.ai/mingxuan-he/NFT_pred' target=\"_blank\">Weights & Biases</a> (<a href='https://wandb.me/run' target=\"_blank\">docs</a>)<br/>"
      ],
      "text/plain": [
       "<IPython.core.display.HTML object>"
      ]
     },
     "metadata": {},
     "output_type": "display_data"
    },
    {
     "data": {
      "text/html": [
       " View project at <a href='https://wandb.ai/mingxuan-he/NFT_pred' target=\"_blank\">https://wandb.ai/mingxuan-he/NFT_pred</a>"
      ],
      "text/plain": [
       "<IPython.core.display.HTML object>"
      ]
     },
     "metadata": {},
     "output_type": "display_data"
    },
    {
     "data": {
      "text/html": [
       " View run at <a href='https://wandb.ai/mingxuan-he/NFT_pred/runs/qp6kmxt6' target=\"_blank\">https://wandb.ai/mingxuan-he/NFT_pred/runs/qp6kmxt6</a>"
      ],
      "text/plain": [
       "<IPython.core.display.HTML object>"
      ]
     },
     "metadata": {},
     "output_type": "display_data"
    }
   ],
   "source": [
    "# instantiate RandomSearch tuner\n",
    "tuner = keras_tuner.tuners.RandomSearch(\n",
    "    MyHyperModel(),\n",
    "    objective='val_loss',\n",
    "    max_trials=50,\n",
    "    executions_per_trial=1,\n",
    "    directory='./tuner',\n",
    "    project_name='NFT_Pred'\n",
    ")"
   ]
  },
  {
   "cell_type": "code",
   "execution_count": 11,
   "metadata": {},
   "outputs": [
    {
     "name": "stdout",
     "output_type": "stream",
     "text": [
      "Search space summary\n",
      "Default search space size: 5\n",
      "filters (Int)\n",
      "{'default': None, 'conditions': [], 'min_value': 32, 'max_value': 256, 'step': 32, 'sampling': 'linear'}\n",
      "kernel_size (Int)\n",
      "{'default': None, 'conditions': [], 'min_value': 2, 'max_value': 5, 'step': 1, 'sampling': 'linear'}\n",
      "units (Choice)\n",
      "{'default': 64, 'conditions': [], 'values': [64, 128, 256, 512], 'ordered': True}\n",
      "dropout (Boolean)\n",
      "{'default': False, 'conditions': []}\n",
      "learning_rate (Choice)\n",
      "{'default': 0.01, 'conditions': [], 'values': [0.01, 0.001, 0.0001], 'ordered': True}\n"
     ]
    }
   ],
   "source": [
    "# search space for hyperparameters\n",
    "tuner.search_space_summary()"
   ]
  },
  {
   "cell_type": "code",
   "execution_count": 12,
   "metadata": {},
   "outputs": [
    {
     "name": "stdout",
     "output_type": "stream",
     "text": [
      "Trial 14 Complete [00h 00m 24s]\n",
      "\n",
      "Best val_loss So Far: 216.9014892578125\n",
      "Total elapsed time: 00h 26m 06s\n",
      "\n",
      "Search: Running Trial #15\n",
      "\n",
      "Value             |Best Value So Far |Hyperparameter\n",
      "32                |64                |filters\n",
      "2                 |5                 |kernel_size\n",
      "64                |512               |units\n",
      "True              |True              |dropout\n",
      "0.0001            |0.001             |learning_rate\n",
      "\n"
     ]
    },
    {
     "data": {
      "text/html": [
       "Finishing last run (ID:67m7y8aq) before initializing another..."
      ],
      "text/plain": [
       "<IPython.core.display.HTML object>"
      ]
     },
     "metadata": {},
     "output_type": "display_data"
    },
    {
     "name": "stderr",
     "output_type": "stream",
     "text": [
      "Traceback (most recent call last):\n",
      "  File \"c:\\ProgramData\\Anaconda3\\lib\\site-packages\\wandb\\sdk\\wandb_init.py\", line 1166, in init\n",
      "    run = wi.init()\n",
      "  File \"c:\\ProgramData\\Anaconda3\\lib\\site-packages\\wandb\\sdk\\wandb_init.py\", line 599, in init\n",
      "    latest_run.finish()\n",
      "  File \"c:\\ProgramData\\Anaconda3\\lib\\site-packages\\wandb\\sdk\\wandb_run.py\", line 420, in wrapper\n",
      "    return func(self, *args, **kwargs)\n",
      "  File \"c:\\ProgramData\\Anaconda3\\lib\\site-packages\\wandb\\sdk\\wandb_run.py\", line 361, in wrapper\n",
      "    return func(self, *args, **kwargs)\n",
      "  File \"c:\\ProgramData\\Anaconda3\\lib\\site-packages\\wandb\\sdk\\wandb_run.py\", line 1953, in finish\n",
      "    return self._finish(exit_code, quiet)\n",
      "  File \"c:\\ProgramData\\Anaconda3\\lib\\site-packages\\wandb\\sdk\\wandb_run.py\", line 1961, in _finish\n",
      "    tel.feature.finish = True\n",
      "  File \"c:\\ProgramData\\Anaconda3\\lib\\site-packages\\wandb\\sdk\\lib\\telemetry.py\", line 42, in __exit__\n",
      "    self._run._telemetry_callback(self._obj)\n",
      "  File \"c:\\ProgramData\\Anaconda3\\lib\\site-packages\\wandb\\sdk\\wandb_run.py\", line 758, in _telemetry_callback\n",
      "    self._telemetry_flush()\n",
      "  File \"c:\\ProgramData\\Anaconda3\\lib\\site-packages\\wandb\\sdk\\wandb_run.py\", line 769, in _telemetry_flush\n",
      "    self._backend.interface._publish_telemetry(self._telemetry_obj)\n",
      "  File \"c:\\ProgramData\\Anaconda3\\lib\\site-packages\\wandb\\sdk\\interface\\interface_shared.py\", line 101, in _publish_telemetry\n",
      "    self._publish(rec)\n",
      "  File \"c:\\ProgramData\\Anaconda3\\lib\\site-packages\\wandb\\sdk\\interface\\interface_sock.py\", line 51, in _publish\n",
      "    self._sock_client.send_record_publish(record)\n",
      "  File \"c:\\ProgramData\\Anaconda3\\lib\\site-packages\\wandb\\sdk\\lib\\sock_client.py\", line 221, in send_record_publish\n",
      "    self.send_server_request(server_req)\n",
      "  File \"c:\\ProgramData\\Anaconda3\\lib\\site-packages\\wandb\\sdk\\lib\\sock_client.py\", line 155, in send_server_request\n",
      "    self._send_message(msg)\n",
      "  File \"c:\\ProgramData\\Anaconda3\\lib\\site-packages\\wandb\\sdk\\lib\\sock_client.py\", line 152, in _send_message\n",
      "    self._sendall_with_error_handle(header + data)\n",
      "  File \"c:\\ProgramData\\Anaconda3\\lib\\site-packages\\wandb\\sdk\\lib\\sock_client.py\", line 130, in _sendall_with_error_handle\n",
      "    sent = self._sock.send(data)\n",
      "ConnectionResetError: [WinError 10054] An existing connection was forcibly closed by the remote host\n",
      "wandb: ERROR Abnormal program exit\n"
     ]
    },
    {
     "ename": "",
     "evalue": "",
     "output_type": "error",
     "traceback": [
      "\u001b[1;31mThe Kernel crashed while executing code in the the current cell or a previous cell. Please review the code in the cell(s) to identify a possible cause of the failure. Click <a href='https://aka.ms/vscodeJupyterKernelCrash'>here</a> for more info. View Jupyter <a href='command:jupyter.viewOutput'>log</a> for further details."
     ]
    }
   ],
   "source": [
    "# main training function\n",
    "tuner.search(\n",
    "    X_train,\n",
    "    y_train,\n",
    "    batch_size=32,\n",
    "    epochs=25,\n",
    "    validation_data=(X_test, y_test),\n",
    ")"
   ]
  },
  {
   "cell_type": "markdown",
   "metadata": {},
   "source": [
    "# Results"
   ]
  },
  {
   "cell_type": "code",
   "execution_count": 12,
   "metadata": {},
   "outputs": [
    {
     "data": {
      "text/html": [
       "wandb version 0.16.1 is available!  To upgrade, please run:\n",
       " $ pip install wandb --upgrade"
      ],
      "text/plain": [
       "<IPython.core.display.HTML object>"
      ]
     },
     "metadata": {},
     "output_type": "display_data"
    },
    {
     "data": {
      "text/html": [
       "Tracking run with wandb version 0.16.0"
      ],
      "text/plain": [
       "<IPython.core.display.HTML object>"
      ]
     },
     "metadata": {},
     "output_type": "display_data"
    },
    {
     "data": {
      "text/html": [
       "Run data is saved locally in <code>c:\\Users\\sheld\\OneDrive\\BUSN 41913 Bayes, AI, and Deep Learning\\NFT_pred\\wandb\\run-20231206_185629-4rp9yeuc</code>"
      ],
      "text/plain": [
       "<IPython.core.display.HTML object>"
      ]
     },
     "metadata": {},
     "output_type": "display_data"
    },
    {
     "data": {
      "text/html": [
       "Syncing run <strong><a href='https://wandb.ai/mingxuan-he/NFT_pred/runs/4rp9yeuc' target=\"_blank\">ethereal-cosmos-16</a></strong> to <a href='https://wandb.ai/mingxuan-he/NFT_pred' target=\"_blank\">Weights & Biases</a> (<a href='https://wandb.me/run' target=\"_blank\">docs</a>)<br/>"
      ],
      "text/plain": [
       "<IPython.core.display.HTML object>"
      ]
     },
     "metadata": {},
     "output_type": "display_data"
    },
    {
     "data": {
      "text/html": [
       " View project at <a href='https://wandb.ai/mingxuan-he/NFT_pred' target=\"_blank\">https://wandb.ai/mingxuan-he/NFT_pred</a>"
      ],
      "text/plain": [
       "<IPython.core.display.HTML object>"
      ]
     },
     "metadata": {},
     "output_type": "display_data"
    },
    {
     "data": {
      "text/html": [
       " View run at <a href='https://wandb.ai/mingxuan-he/NFT_pred/runs/4rp9yeuc' target=\"_blank\">https://wandb.ai/mingxuan-he/NFT_pred/runs/4rp9yeuc</a>"
      ],
      "text/plain": [
       "<IPython.core.display.HTML object>"
      ]
     },
     "metadata": {},
     "output_type": "display_data"
    },
    {
     "data": {
      "text/html": [
       "Finishing last run (ID:4rp9yeuc) before initializing another..."
      ],
      "text/plain": [
       "<IPython.core.display.HTML object>"
      ]
     },
     "metadata": {},
     "output_type": "display_data"
    },
    {
     "data": {
      "application/vnd.jupyter.widget-view+json": {
       "model_id": "43abe5ad74fe4d69b9172bb9032370c7",
       "version_major": 2,
       "version_minor": 0
      },
      "text/plain": [
       "VBox(children=(Label(value='0.019 MB of 0.019 MB uploaded\\r'), FloatProgress(value=1.0, max=1.0)))"
      ]
     },
     "metadata": {},
     "output_type": "display_data"
    },
    {
     "data": {
      "text/html": [
       " View run <strong style=\"color:#cdcd00\">ethereal-cosmos-16</strong> at: <a href='https://wandb.ai/mingxuan-he/NFT_pred/runs/4rp9yeuc' target=\"_blank\">https://wandb.ai/mingxuan-he/NFT_pred/runs/4rp9yeuc</a><br/>Synced 5 W&B file(s), 0 media file(s), 0 artifact file(s) and 0 other file(s)"
      ],
      "text/plain": [
       "<IPython.core.display.HTML object>"
      ]
     },
     "metadata": {},
     "output_type": "display_data"
    },
    {
     "data": {
      "text/html": [
       "Find logs at: <code>.\\wandb\\run-20231206_185629-4rp9yeuc\\logs</code>"
      ],
      "text/plain": [
       "<IPython.core.display.HTML object>"
      ]
     },
     "metadata": {},
     "output_type": "display_data"
    },
    {
     "data": {
      "text/html": [
       "Successfully finished last run (ID:4rp9yeuc). Initializing new run:<br/>"
      ],
      "text/plain": [
       "<IPython.core.display.HTML object>"
      ]
     },
     "metadata": {},
     "output_type": "display_data"
    },
    {
     "data": {
      "application/vnd.jupyter.widget-view+json": {
       "model_id": "f429d97402114d099be15ccd38b2b59d",
       "version_major": 2,
       "version_minor": 0
      },
      "text/plain": [
       "VBox(children=(Label(value='Waiting for wandb.init()...\\r'), FloatProgress(value=0.011111111111111112, max=1.0…"
      ]
     },
     "metadata": {},
     "output_type": "display_data"
    },
    {
     "data": {
      "text/html": [
       "wandb version 0.16.1 is available!  To upgrade, please run:\n",
       " $ pip install wandb --upgrade"
      ],
      "text/plain": [
       "<IPython.core.display.HTML object>"
      ]
     },
     "metadata": {},
     "output_type": "display_data"
    },
    {
     "data": {
      "text/html": [
       "Tracking run with wandb version 0.16.0"
      ],
      "text/plain": [
       "<IPython.core.display.HTML object>"
      ]
     },
     "metadata": {},
     "output_type": "display_data"
    },
    {
     "data": {
      "text/html": [
       "Run data is saved locally in <code>c:\\Users\\sheld\\OneDrive\\BUSN 41913 Bayes, AI, and Deep Learning\\NFT_pred\\wandb\\run-20231206_185639-6ilznbou</code>"
      ],
      "text/plain": [
       "<IPython.core.display.HTML object>"
      ]
     },
     "metadata": {},
     "output_type": "display_data"
    },
    {
     "data": {
      "text/html": [
       "Syncing run <strong><a href='https://wandb.ai/mingxuan-he/NFT_pred/runs/6ilznbou' target=\"_blank\">soft-plasma-17</a></strong> to <a href='https://wandb.ai/mingxuan-he/NFT_pred' target=\"_blank\">Weights & Biases</a> (<a href='https://wandb.me/run' target=\"_blank\">docs</a>)<br/>"
      ],
      "text/plain": [
       "<IPython.core.display.HTML object>"
      ]
     },
     "metadata": {},
     "output_type": "display_data"
    },
    {
     "data": {
      "text/html": [
       " View project at <a href='https://wandb.ai/mingxuan-he/NFT_pred' target=\"_blank\">https://wandb.ai/mingxuan-he/NFT_pred</a>"
      ],
      "text/plain": [
       "<IPython.core.display.HTML object>"
      ]
     },
     "metadata": {},
     "output_type": "display_data"
    },
    {
     "data": {
      "text/html": [
       " View run at <a href='https://wandb.ai/mingxuan-he/NFT_pred/runs/6ilznbou' target=\"_blank\">https://wandb.ai/mingxuan-he/NFT_pred/runs/6ilznbou</a>"
      ],
      "text/plain": [
       "<IPython.core.display.HTML object>"
      ]
     },
     "metadata": {},
     "output_type": "display_data"
    },
    {
     "name": "stdout",
     "output_type": "stream",
     "text": [
      "Model: \"sequential\"\n",
      "_________________________________________________________________\n",
      " Layer (type)                Output Shape              Param #   \n",
      "=================================================================\n",
      " conv1d (Conv1D)             (None, 12, 128)           512       \n",
      "                                                                 \n",
      " max_pooling1d (MaxPooling1D  (None, 6, 128)           0         \n",
      " )                                                               \n",
      "                                                                 \n",
      " flatten (Flatten)           (None, 768)               0         \n",
      "                                                                 \n",
      " dense (Dense)               (None, 64)                49216     \n",
      "                                                                 \n",
      " dense_1 (Dense)             (None, 32)                2080      \n",
      "                                                                 \n",
      " dense_2 (Dense)             (None, 1)                 33        \n",
      "                                                                 \n",
      "=================================================================\n",
      "Total params: 51,841\n",
      "Trainable params: 51,841\n",
      "Non-trainable params: 0\n",
      "_________________________________________________________________\n"
     ]
    }
   ],
   "source": [
    "# get best model & hyperparameters\n",
    "best_model = tuner.get_best_models(num_models=1)[0]\n",
    "best_hps = tuner.get_best_hyperparameters(num_trials=1)[0]\n",
    "print(\"best hyperparameters:\")\n",
    "print(best_hps.values)\n",
    "print(\"best model architecture:\")\n",
    "print(best_model.summary())\n",
    "wandb.finish() # end wandb run initiated by get_best_models"
   ]
  },
  {
   "cell_type": "code",
   "execution_count": 12,
   "metadata": {},
   "outputs": [
    {
     "name": "stdout",
     "output_type": "stream",
     "text": [
      "215/215 [==============================] - 0s 907us/step\n"
     ]
    }
   ],
   "source": [
    "predictions = best_model.predict(X_test)"
   ]
  },
  {
   "cell_type": "code",
   "execution_count": 13,
   "metadata": {},
   "outputs": [
    {
     "data": {
      "image/png": "[encoded data removed]",
      "text/plain": [
       "<Figure size 640x480 with 1 Axes>"
      ]
     },
     "metadata": {},
     "output_type": "display_data"
    }
   ],
   "source": [
    "import matplotlib.pyplot as plt\n",
    "plt.scatter(y_test, predictions)\n",
    "plt.show()"
   ]
  },
  {
   "cell_type": "code",
   "execution_count": 14,
   "metadata": {},
   "outputs": [
    {
     "data": {
      "image/png": "[encoded data removed]",
      "text/plain": [
       "<IPython.core.display.Image object>"
      ]
     },
     "execution_count": 14,
     "metadata": {},
     "output_type": "execute_result"
    }
   ],
   "source": [
    "from tensorflow.keras.utils import plot_model\n",
    "plot_model(best_model, show_shapes=True, show_layer_names=True)"
   ]
  },
  {
   "cell_type": "code",
   "execution_count": 15,
   "metadata": {},
   "outputs": [],
   "source": [
    "from keras_visualizer import visualizer\n",
    "visualizer(best_model, file_name=\"figures/nn\", file_format='png', view=True)"
   ]
  }
 ],
 "metadata": {
  "kernelspec": {
   "display_name": "Python 3",
   "language": "python",
   "name": "python3"
  },
  "language_info": {
   "codemirror_mode": {
    "name": "ipython",
    "version": 3
   },
   "file_extension": ".py",
   "mimetype": "text/x-python",
   "name": "python",
   "nbconvert_exporter": "python",
   "pygments_lexer": "ipython3",
   "version": "3.8.5"
  }
 },
 "nbformat": 4,
 "nbformat_minor": 2
}
