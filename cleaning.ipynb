{
 "cells": [
  {
   "cell_type": "code",
   "execution_count": 1,
   "metadata": {},
   "outputs": [],
   "source": [
    "import numpy as np\n",
    "import pandas as pd"
   ]
  },
  {
   "cell_type": "markdown",
   "metadata": {},
   "source": [
    "# Trades data"
   ]
  },
  {
   "cell_type": "code",
   "execution_count": 2,
   "metadata": {},
   "outputs": [],
   "source": [
    "df = pd.read_csv(\"data/bayc.csv\", index_col=0)"
   ]
  },
  {
   "cell_type": "markdown",
   "metadata": {},
   "source": [
    "## clean up price and datetime columns"
   ]
  },
  {
   "cell_type": "code",
   "execution_count": 3,
   "metadata": {},
   "outputs": [],
   "source": [
    "# rename price\n",
    "df.rename(columns={'amount_original':'trade_price'}, inplace=True)\n",
    "\n",
    "# drop if price missing\n",
    "df = df[df['trade_price']!='<nil>']\n",
    "\n",
    "# convert types\n",
    "df['trade_price'] = df['trade_price'].astype(float)\n",
    "df['block_time'] = pd.to_datetime(df['block_time'])\n",
    "df['block_date'] = pd.to_datetime(df['block_date'])\n",
    "df['block_month'] = pd.to_datetime(df['block_month'])\n",
    "\n",
    "# drop observation if trade_price above max_price or below min_price\n",
    "df = df[(df['trade_price'] <= df['price_max_eth']) & (df['trade_price'] >= df['price_min_eth'])]"
   ]
  },
  {
   "cell_type": "markdown",
   "metadata": {},
   "source": [
    "## add variables: last_trade_price, last_trade_timediff"
   ]
  },
  {
   "cell_type": "code",
   "execution_count": 4,
   "metadata": {},
   "outputs": [],
   "source": [
    "# note: dataset is pre-sorted by token_id and block_time\n",
    "df['last_trade_price'] = df.groupby('token_id')['trade_price'].shift(1)\n",
    "df['last_trade_time'] = df.groupby('token_id')['block_time'].shift(1)\n",
    "df['last_trade_timediff'] = df['block_time'] - df['last_trade_time']\n",
    "df['last_trade_timediff'] = df['last_trade_timediff'].dt.total_seconds() / 86400"
   ]
  },
  {
   "cell_type": "markdown",
   "metadata": {},
   "source": [
    "## creating lagged columns for market price/volume data"
   ]
  },
  {
   "cell_type": "code",
   "execution_count": 5,
   "metadata": {},
   "outputs": [
    {
     "data": {
      "text/plain": [
       "0"
      ]
     },
     "execution_count": 5,
     "metadata": {},
     "output_type": "execute_result"
    }
   ],
   "source": [
    "# check if dates are consecutive\n",
    "dates = df['block_date'].sort_values().unique()\n",
    "dates_diff = dates[1:] - dates[:-1]\n",
    "sum(dates_diff != pd.Timedelta('1 days'))"
   ]
  },
  {
   "cell_type": "code",
   "execution_count": 6,
   "metadata": {},
   "outputs": [
    {
     "data": {
      "text/html": [
       "<div>\n",
       "<style scoped>\n",
       "    .dataframe tbody tr th:only-of-type {\n",
       "        vertical-align: middle;\n",
       "    }\n",
       "\n",
       "    .dataframe tbody tr th {\n",
       "        vertical-align: top;\n",
       "    }\n",
       "\n",
       "    .dataframe thead th {\n",
       "        text-align: right;\n",
       "    }\n",
       "</style>\n",
       "<table border=\"1\" class=\"dataframe\">\n",
       "  <thead>\n",
       "    <tr style=\"text-align: right;\">\n",
       "      <th></th>\n",
       "      <th>block_date</th>\n",
       "      <th>volume_eth</th>\n",
       "      <th>price_p5_eth</th>\n",
       "      <th>price_max_eth</th>\n",
       "      <th>price_min_eth</th>\n",
       "      <th>volume_eth_lag1</th>\n",
       "      <th>price_p5_eth_lag1</th>\n",
       "      <th>price_max_eth_lag1</th>\n",
       "      <th>price_min_eth_lag1</th>\n",
       "    </tr>\n",
       "  </thead>\n",
       "  <tbody>\n",
       "    <tr>\n",
       "      <th>0</th>\n",
       "      <td>2021-04-30</td>\n",
       "      <td>0.160000</td>\n",
       "      <td>0.160000</td>\n",
       "      <td>0.16</td>\n",
       "      <td>0.16000</td>\n",
       "      <td>NaN</td>\n",
       "      <td>NaN</td>\n",
       "      <td>NaN</td>\n",
       "      <td>NaN</td>\n",
       "    </tr>\n",
       "    <tr>\n",
       "      <th>1</th>\n",
       "      <td>2021-05-01</td>\n",
       "      <td>560.845702</td>\n",
       "      <td>0.092417</td>\n",
       "      <td>10.00</td>\n",
       "      <td>0.04000</td>\n",
       "      <td>0.160000</td>\n",
       "      <td>0.160000</td>\n",
       "      <td>0.16</td>\n",
       "      <td>0.16000</td>\n",
       "    </tr>\n",
       "    <tr>\n",
       "      <th>2</th>\n",
       "      <td>2021-05-02</td>\n",
       "      <td>1330.337944</td>\n",
       "      <td>0.240629</td>\n",
       "      <td>21.00</td>\n",
       "      <td>0.13965</td>\n",
       "      <td>560.845702</td>\n",
       "      <td>0.092417</td>\n",
       "      <td>10.00</td>\n",
       "      <td>0.04000</td>\n",
       "    </tr>\n",
       "    <tr>\n",
       "      <th>3</th>\n",
       "      <td>2021-05-03</td>\n",
       "      <td>960.840859</td>\n",
       "      <td>0.365829</td>\n",
       "      <td>15.00</td>\n",
       "      <td>0.04500</td>\n",
       "      <td>1330.337944</td>\n",
       "      <td>0.240629</td>\n",
       "      <td>21.00</td>\n",
       "      <td>0.13965</td>\n",
       "    </tr>\n",
       "    <tr>\n",
       "      <th>4</th>\n",
       "      <td>2021-05-04</td>\n",
       "      <td>295.019333</td>\n",
       "      <td>0.300000</td>\n",
       "      <td>8.00</td>\n",
       "      <td>0.10000</td>\n",
       "      <td>960.840859</td>\n",
       "      <td>0.365829</td>\n",
       "      <td>15.00</td>\n",
       "      <td>0.04500</td>\n",
       "    </tr>\n",
       "  </tbody>\n",
       "</table>\n",
       "</div>"
      ],
      "text/plain": [
       "  block_date   volume_eth  price_p5_eth  price_max_eth  price_min_eth  \\\n",
       "0 2021-04-30     0.160000      0.160000           0.16        0.16000   \n",
       "1 2021-05-01   560.845702      0.092417          10.00        0.04000   \n",
       "2 2021-05-02  1330.337944      0.240629          21.00        0.13965   \n",
       "3 2021-05-03   960.840859      0.365829          15.00        0.04500   \n",
       "4 2021-05-04   295.019333      0.300000           8.00        0.10000   \n",
       "\n",
       "   volume_eth_lag1  price_p5_eth_lag1  price_max_eth_lag1  price_min_eth_lag1  \n",
       "0              NaN                NaN                 NaN                 NaN  \n",
       "1         0.160000           0.160000                0.16             0.16000  \n",
       "2       560.845702           0.092417               10.00             0.04000  \n",
       "3      1330.337944           0.240629               21.00             0.13965  \n",
       "4       960.840859           0.365829               15.00             0.04500  "
      ]
     },
     "execution_count": 6,
     "metadata": {},
     "output_type": "execute_result"
    }
   ],
   "source": [
    "# Aggregating the data by block_date\n",
    "lag_columns = ['volume_eth', 'price_p5_eth', 'price_max_eth', 'price_min_eth']\n",
    "daily_aggregated = df.groupby('block_date')[lag_columns].mean().reset_index()\n",
    "\n",
    "# Creating lagged columns\n",
    "for col in lag_columns:\n",
    "    daily_aggregated[col + '_lag1'] = daily_aggregated[col].shift(1)\n",
    "\n",
    "daily_aggregated.head()"
   ]
  },
  {
   "cell_type": "code",
   "execution_count": 7,
   "metadata": {},
   "outputs": [],
   "source": [
    "df = df.merge(\n",
    "    daily_aggregated[['block_date', 'volume_eth_lag1', 'price_p5_eth_lag1', 'price_max_eth_lag1', 'price_min_eth_lag1']], \n",
    "    on='block_date', how='left')\n",
    "df = df[df['block_date'] != '2021-04-30']"
   ]
  },
  {
   "cell_type": "markdown",
   "metadata": {},
   "source": [
    "## create log price variable as alternative outcome"
   ]
  },
  {
   "cell_type": "code",
   "execution_count": 8,
   "metadata": {},
   "outputs": [],
   "source": [
    "df['trade_price_log'] = np.log(df['trade_price'])"
   ]
  },
  {
   "cell_type": "markdown",
   "metadata": {},
   "source": [
    "# Traits/Rarity data"
   ]
  },
  {
   "cell_type": "code",
   "execution_count": 9,
   "metadata": {},
   "outputs": [
    {
     "data": {
      "text/html": [
       "<div>\n",
       "<style scoped>\n",
       "    .dataframe tbody tr th:only-of-type {\n",
       "        vertical-align: middle;\n",
       "    }\n",
       "\n",
       "    .dataframe tbody tr th {\n",
       "        vertical-align: top;\n",
       "    }\n",
       "\n",
       "    .dataframe thead th {\n",
       "        text-align: right;\n",
       "    }\n",
       "</style>\n",
       "<table border=\"1\" class=\"dataframe\">\n",
       "  <thead>\n",
       "    <tr style=\"text-align: right;\">\n",
       "      <th></th>\n",
       "      <th>token_id</th>\n",
       "      <th>rarity_rank</th>\n",
       "      <th>Background_value</th>\n",
       "      <th>Background_count</th>\n",
       "      <th>Hat_value</th>\n",
       "      <th>Hat_count</th>\n",
       "      <th>Mouth_value</th>\n",
       "      <th>Mouth_count</th>\n",
       "      <th>Eyes_value</th>\n",
       "      <th>Eyes_count</th>\n",
       "      <th>Fur_value</th>\n",
       "      <th>Fur_count</th>\n",
       "      <th>Clothes_value</th>\n",
       "      <th>Clothes_count</th>\n",
       "      <th>Earring_value</th>\n",
       "      <th>Earring_count</th>\n",
       "    </tr>\n",
       "  </thead>\n",
       "  <tbody>\n",
       "    <tr>\n",
       "      <th>0</th>\n",
       "      <td>5</td>\n",
       "      <td>3447</td>\n",
       "      <td>Army Green</td>\n",
       "      <td>1243</td>\n",
       "      <td>Bayc Flipped Brim</td>\n",
       "      <td>231.0</td>\n",
       "      <td>Dumbfounded</td>\n",
       "      <td>505</td>\n",
       "      <td>X Eyes</td>\n",
       "      <td>243</td>\n",
       "      <td>Brown</td>\n",
       "      <td>1370</td>\n",
       "      <td>Bayc T Red</td>\n",
       "      <td>140.0</td>\n",
       "      <td>NaN</td>\n",
       "      <td>NaN</td>\n",
       "    </tr>\n",
       "    <tr>\n",
       "      <th>1</th>\n",
       "      <td>6</td>\n",
       "      <td>5599</td>\n",
       "      <td>Yellow</td>\n",
       "      <td>1283</td>\n",
       "      <td>S&amp;m Hat</td>\n",
       "      <td>235.0</td>\n",
       "      <td>Bored</td>\n",
       "      <td>2272</td>\n",
       "      <td>Crazy</td>\n",
       "      <td>407</td>\n",
       "      <td>Cream</td>\n",
       "      <td>636</td>\n",
       "      <td>Tweed Suit</td>\n",
       "      <td>141.0</td>\n",
       "      <td>NaN</td>\n",
       "      <td>NaN</td>\n",
       "    </tr>\n",
       "    <tr>\n",
       "      <th>2</th>\n",
       "      <td>8</td>\n",
       "      <td>5267</td>\n",
       "      <td>Aquamarine</td>\n",
       "      <td>1266</td>\n",
       "      <td>Beanie</td>\n",
       "      <td>578.0</td>\n",
       "      <td>Bored</td>\n",
       "      <td>2272</td>\n",
       "      <td>Robot</td>\n",
       "      <td>350</td>\n",
       "      <td>Zombie</td>\n",
       "      <td>302</td>\n",
       "      <td>NaN</td>\n",
       "      <td>NaN</td>\n",
       "      <td>Gold Stud</td>\n",
       "      <td>439.0</td>\n",
       "    </tr>\n",
       "    <tr>\n",
       "      <th>3</th>\n",
       "      <td>9</td>\n",
       "      <td>2389</td>\n",
       "      <td>Purple</td>\n",
       "      <td>1291</td>\n",
       "      <td>Seaman's Hat</td>\n",
       "      <td>420.0</td>\n",
       "      <td>Small Grin</td>\n",
       "      <td>272</td>\n",
       "      <td>Sleepy</td>\n",
       "      <td>751</td>\n",
       "      <td>Brown</td>\n",
       "      <td>1370</td>\n",
       "      <td>Stunt Jacket</td>\n",
       "      <td>178.0</td>\n",
       "      <td>Silver Stud</td>\n",
       "      <td>823.0</td>\n",
       "    </tr>\n",
       "    <tr>\n",
       "      <th>4</th>\n",
       "      <td>10</td>\n",
       "      <td>3735</td>\n",
       "      <td>Aquamarine</td>\n",
       "      <td>1266</td>\n",
       "      <td>Bayc Hat Red</td>\n",
       "      <td>119.0</td>\n",
       "      <td>Bored</td>\n",
       "      <td>2272</td>\n",
       "      <td>Eyepatch</td>\n",
       "      <td>333</td>\n",
       "      <td>Dmt</td>\n",
       "      <td>215</td>\n",
       "      <td>Navy Striped Tee</td>\n",
       "      <td>334.0</td>\n",
       "      <td>NaN</td>\n",
       "      <td>NaN</td>\n",
       "    </tr>\n",
       "  </tbody>\n",
       "</table>\n",
       "</div>"
      ],
      "text/plain": [
       "   token_id  rarity_rank Background_value  Background_count  \\\n",
       "0         5         3447       Army Green              1243   \n",
       "1         6         5599           Yellow              1283   \n",
       "2         8         5267       Aquamarine              1266   \n",
       "3         9         2389           Purple              1291   \n",
       "4        10         3735       Aquamarine              1266   \n",
       "\n",
       "           Hat_value  Hat_count  Mouth_value  Mouth_count Eyes_value  \\\n",
       "0  Bayc Flipped Brim      231.0  Dumbfounded          505     X Eyes   \n",
       "1            S&m Hat      235.0        Bored         2272      Crazy   \n",
       "2             Beanie      578.0        Bored         2272      Robot   \n",
       "3       Seaman's Hat      420.0   Small Grin          272     Sleepy   \n",
       "4       Bayc Hat Red      119.0        Bored         2272   Eyepatch   \n",
       "\n",
       "   Eyes_count Fur_value  Fur_count     Clothes_value  Clothes_count  \\\n",
       "0         243     Brown       1370        Bayc T Red          140.0   \n",
       "1         407     Cream        636        Tweed Suit          141.0   \n",
       "2         350    Zombie        302               NaN            NaN   \n",
       "3         751     Brown       1370      Stunt Jacket          178.0   \n",
       "4         333       Dmt        215  Navy Striped Tee          334.0   \n",
       "\n",
       "  Earring_value  Earring_count  \n",
       "0           NaN            NaN  \n",
       "1           NaN            NaN  \n",
       "2     Gold Stud          439.0  \n",
       "3   Silver Stud          823.0  \n",
       "4           NaN            NaN  "
      ]
     },
     "execution_count": 9,
     "metadata": {},
     "output_type": "execute_result"
    }
   ],
   "source": [
    "traits_df = pd.read_csv(\"data/bayc_traits.csv\", index_col=0)\n",
    "traits_df.head()"
   ]
  },
  {
   "cell_type": "markdown",
   "metadata": {},
   "source": [
    "## format optional traits\n",
    "if trait is missing, put value = NA and count = # of items without the trait"
   ]
  },
  {
   "cell_type": "code",
   "execution_count": 10,
   "metadata": {},
   "outputs": [
    {
     "name": "stdout",
     "output_type": "stream",
     "text": [
      "{'Hat': 2042, 'Clothes': 1690, 'Earring': 6383}\n"
     ]
    }
   ],
   "source": [
    "optional_traits = {} # pairs of \"trait\" : \"empty count\"\n",
    "\n",
    "for i,v in traits_df.isna().sum().items():\n",
    "    if v>0: # if there are empty values in the trait\n",
    "        trait = i.split(\"_\")[0]\n",
    "        optional_traits[trait] = v\n",
    "print(optional_traits)"
   ]
  },
  {
   "cell_type": "code",
   "execution_count": 11,
   "metadata": {},
   "outputs": [],
   "source": [
    "for trait, count in optional_traits.items():\n",
    "    traits_df[trait+\"_value\"] = traits_df[trait+\"_value\"].fillna(\"Empty\")\n",
    "    traits_df[trait+\"_count\"] = traits_df[trait+\"_count\"].fillna(count).astype(int)"
   ]
  },
  {
   "cell_type": "code",
   "execution_count": 12,
   "metadata": {},
   "outputs": [],
   "source": [
    "cleaned = df.merge(traits_df, on='token_id', how='left')\n",
    "cleaned.to_csv(\"data/bayc_cleaned.csv\")"
   ]
  }
 ],
 "metadata": {
  "kernelspec": {
   "display_name": "base",
   "language": "python",
   "name": "python3"
  },
  "language_info": {
   "codemirror_mode": {
    "name": "ipython",
    "version": 3
   },
   "file_extension": ".py",
   "mimetype": "text/x-python",
   "name": "python",
   "nbconvert_exporter": "python",
   "pygments_lexer": "ipython3",
   "version": "3.8.5"
  }
 },
 "nbformat": 4,
 "nbformat_minor": 2
}
